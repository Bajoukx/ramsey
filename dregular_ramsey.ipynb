{
 "cells": [
  {
   "cell_type": "code",
   "execution_count": 11,
   "id": "23ccf8dc",
   "metadata": {},
   "outputs": [],
   "source": [
    "import torch\n",
    "\n",
    "from ramsey import clique_algorithms\n",
    "from ramsey import env_utils"
   ]
  },
  {
   "cell_type": "code",
   "execution_count": 85,
   "id": "7359971c",
   "metadata": {},
   "outputs": [],
   "source": [
    "def get_regular_matrix(n_vertices, d_regular):\n",
    "    matrix = torch.zeros(n_vertices, n_vertices)\n",
    "    for d in range(d_regular // 2):\n",
    "        diag = torch.ones(n_vertices - d - 1)\n",
    "        matrix += torch.diag(diag, d + 1)\n",
    "        matrix += torch.diag(diag, - d - 1)\n",
    "    \n",
    "    for d in range(n_vertices - (d_regular // 2), n_vertices):\n",
    "        diag = torch.ones(n_vertices - d)\n",
    "        matrix += torch.diag(diag, d)\n",
    "        matrix += torch.diag(diag, - d)\n",
    "\n",
    "    return matrix\n"
   ]
  },
  {
   "cell_type": "code",
   "execution_count": 97,
   "id": "eb47f861",
   "metadata": {},
   "outputs": [],
   "source": [
    "def compute_cliques_d_regular(n_vertices, d_regular):\n",
    "    matrix = get_regular_matrix(n_vertices, d_regular)\n",
    "    cliques = clique_algorithms.bron_kerbosch(\n",
    "        env_utils.adj_matrix_to_dict(matrix, 1))\n",
    "    inverse_cliques = clique_algorithms.bron_kerbosch(\n",
    "        env_utils.adj_matrix_to_dict(matrix, 0))\n",
    "    print(\"d_regular:\", d_regular)\n",
    "    if len(cliques):\n",
    "        len_cliques = [len(clique) for clique in cliques]\n",
    "        print(\"max clique size:\", max(len_cliques))\n",
    "    if len(cliques):\n",
    "        inv_len_cliques = [len(clique) for clique in inverse_cliques]\n",
    "        print(\"max inverse clique size:\", max(inv_len_cliques))\n",
    "    #print(matrix)"
   ]
  },
  {
   "cell_type": "code",
   "execution_count": null,
   "id": "7a99ac61",
   "metadata": {},
   "outputs": [
    {
     "ename": "KeyboardInterrupt",
     "evalue": "",
     "output_type": "error",
     "traceback": [
      "\u001b[31m---------------------------------------------------------------------------\u001b[39m",
      "\u001b[31mKeyboardInterrupt\u001b[39m                         Traceback (most recent call last)",
      "\u001b[36mCell\u001b[39m\u001b[36m \u001b[39m\u001b[32mIn[99]\u001b[39m\u001b[32m, line 2\u001b[39m\n\u001b[32m      1\u001b[39m \u001b[38;5;28;01mfor\u001b[39;00m i \u001b[38;5;129;01min\u001b[39;00m \u001b[38;5;28mrange\u001b[39m(\u001b[32m2\u001b[39m, \u001b[32m56\u001b[39m, \u001b[32m2\u001b[39m):\n\u001b[32m----> \u001b[39m\u001b[32m2\u001b[39m     \u001b[43mcompute_cliques_d_regular\u001b[49m\u001b[43m(\u001b[49m\u001b[32;43m106\u001b[39;49m\u001b[43m,\u001b[49m\u001b[43m \u001b[49m\u001b[43mi\u001b[49m\u001b[43m)\u001b[49m\n",
      "\u001b[36mCell\u001b[39m\u001b[36m \u001b[39m\u001b[32mIn[97]\u001b[39m\u001b[32m, line 5\u001b[39m, in \u001b[36mcompute_cliques_d_regular\u001b[39m\u001b[34m(n_vertices, d_regular)\u001b[39m\n\u001b[32m      2\u001b[39m matrix = get_regular_matrix(n_vertices, d_regular)\n\u001b[32m      3\u001b[39m cliques = clique_algorithms.bron_kerbosch(\n\u001b[32m      4\u001b[39m     env_utils.adj_matrix_to_dict(matrix, \u001b[32m1\u001b[39m))\n\u001b[32m----> \u001b[39m\u001b[32m5\u001b[39m inverse_cliques = \u001b[43mclique_algorithms\u001b[49m\u001b[43m.\u001b[49m\u001b[43mbron_kerbosch\u001b[49m\u001b[43m(\u001b[49m\n\u001b[32m      6\u001b[39m \u001b[43m    \u001b[49m\u001b[43menv_utils\u001b[49m\u001b[43m.\u001b[49m\u001b[43madj_matrix_to_dict\u001b[49m\u001b[43m(\u001b[49m\u001b[43mmatrix\u001b[49m\u001b[43m,\u001b[49m\u001b[43m \u001b[49m\u001b[32;43m0\u001b[39;49m\u001b[43m)\u001b[49m\u001b[43m)\u001b[49m\n\u001b[32m      7\u001b[39m \u001b[38;5;28mprint\u001b[39m(\u001b[33m\"\u001b[39m\u001b[33md_regular:\u001b[39m\u001b[33m\"\u001b[39m, d_regular)\n\u001b[32m      8\u001b[39m \u001b[38;5;28;01mif\u001b[39;00m \u001b[38;5;28mlen\u001b[39m(cliques):\n",
      "\u001b[36mFile \u001b[39m\u001b[32mc:\\Users\\josea\\Documents\\courses\\Random\\ramsey\\ramsey\\clique_algorithms.py:34\u001b[39m, in \u001b[36mbron_kerbosch\u001b[39m\u001b[34m(graph_dict)\u001b[39m\n\u001b[32m     31\u001b[39m         candidates.remove(vertex)\n\u001b[32m     32\u001b[39m         processed_vertices.add(vertex)\n\u001b[32m---> \u001b[39m\u001b[32m34\u001b[39m \u001b[43m_recursive\u001b[49m\u001b[43m(\u001b[49m\u001b[38;5;28;43mset\u001b[39;49m\u001b[43m(\u001b[49m\u001b[43m)\u001b[49m\u001b[43m,\u001b[49m\u001b[43m \u001b[49m\u001b[38;5;28;43mset\u001b[39;49m\u001b[43m(\u001b[49m\u001b[43mgraph_dict\u001b[49m\u001b[43m.\u001b[49m\u001b[43mkeys\u001b[49m\u001b[43m(\u001b[49m\u001b[43m)\u001b[49m\u001b[43m)\u001b[49m\u001b[43m,\u001b[49m\u001b[43m \u001b[49m\u001b[38;5;28;43mset\u001b[39;49m\u001b[43m(\u001b[49m\u001b[43m)\u001b[49m\u001b[43m,\u001b[49m\u001b[43m \u001b[49m\u001b[43mgraph_dict\u001b[49m\u001b[43m)\u001b[49m\n\u001b[32m     35\u001b[39m \u001b[38;5;28;01mreturn\u001b[39;00m cliques\n",
      "\u001b[36mFile \u001b[39m\u001b[32mc:\\Users\\josea\\Documents\\courses\\Random\\ramsey\\ramsey\\clique_algorithms.py:29\u001b[39m, in \u001b[36mbron_kerbosch.<locals>._recursive\u001b[39m\u001b[34m(current_clique, candidates, processed_vertices, graph_dict)\u001b[39m\n\u001b[32m     26\u001b[39m new_candidates = candidates.intersection(graph_dict[vertex])\n\u001b[32m     27\u001b[39m new_processed_vertices = processed_vertices.intersection(\n\u001b[32m     28\u001b[39m     graph_dict[vertex])\n\u001b[32m---> \u001b[39m\u001b[32m29\u001b[39m \u001b[43m_recursive\u001b[49m\u001b[43m(\u001b[49m\u001b[43mnew_clique\u001b[49m\u001b[43m,\u001b[49m\u001b[43m \u001b[49m\u001b[43mnew_candidates\u001b[49m\u001b[43m,\u001b[49m\u001b[43m \u001b[49m\u001b[43mnew_processed_vertices\u001b[49m\u001b[43m,\u001b[49m\n\u001b[32m     30\u001b[39m \u001b[43m           \u001b[49m\u001b[43mgraph_dict\u001b[49m\u001b[43m)\u001b[49m\n\u001b[32m     31\u001b[39m candidates.remove(vertex)\n\u001b[32m     32\u001b[39m processed_vertices.add(vertex)\n",
      "\u001b[36mFile \u001b[39m\u001b[32mc:\\Users\\josea\\Documents\\courses\\Random\\ramsey\\ramsey\\clique_algorithms.py:29\u001b[39m, in \u001b[36mbron_kerbosch.<locals>._recursive\u001b[39m\u001b[34m(current_clique, candidates, processed_vertices, graph_dict)\u001b[39m\n\u001b[32m     26\u001b[39m new_candidates = candidates.intersection(graph_dict[vertex])\n\u001b[32m     27\u001b[39m new_processed_vertices = processed_vertices.intersection(\n\u001b[32m     28\u001b[39m     graph_dict[vertex])\n\u001b[32m---> \u001b[39m\u001b[32m29\u001b[39m \u001b[43m_recursive\u001b[49m\u001b[43m(\u001b[49m\u001b[43mnew_clique\u001b[49m\u001b[43m,\u001b[49m\u001b[43m \u001b[49m\u001b[43mnew_candidates\u001b[49m\u001b[43m,\u001b[49m\u001b[43m \u001b[49m\u001b[43mnew_processed_vertices\u001b[49m\u001b[43m,\u001b[49m\n\u001b[32m     30\u001b[39m \u001b[43m           \u001b[49m\u001b[43mgraph_dict\u001b[49m\u001b[43m)\u001b[49m\n\u001b[32m     31\u001b[39m candidates.remove(vertex)\n\u001b[32m     32\u001b[39m processed_vertices.add(vertex)\n",
      "    \u001b[31m[... skipping similar frames: bron_kerbosch.<locals>._recursive at line 29 (41 times)]\u001b[39m\n",
      "\u001b[36mFile \u001b[39m\u001b[32mc:\\Users\\josea\\Documents\\courses\\Random\\ramsey\\ramsey\\clique_algorithms.py:29\u001b[39m, in \u001b[36mbron_kerbosch.<locals>._recursive\u001b[39m\u001b[34m(current_clique, candidates, processed_vertices, graph_dict)\u001b[39m\n\u001b[32m     26\u001b[39m new_candidates = candidates.intersection(graph_dict[vertex])\n\u001b[32m     27\u001b[39m new_processed_vertices = processed_vertices.intersection(\n\u001b[32m     28\u001b[39m     graph_dict[vertex])\n\u001b[32m---> \u001b[39m\u001b[32m29\u001b[39m \u001b[43m_recursive\u001b[49m\u001b[43m(\u001b[49m\u001b[43mnew_clique\u001b[49m\u001b[43m,\u001b[49m\u001b[43m \u001b[49m\u001b[43mnew_candidates\u001b[49m\u001b[43m,\u001b[49m\u001b[43m \u001b[49m\u001b[43mnew_processed_vertices\u001b[49m\u001b[43m,\u001b[49m\n\u001b[32m     30\u001b[39m \u001b[43m           \u001b[49m\u001b[43mgraph_dict\u001b[49m\u001b[43m)\u001b[49m\n\u001b[32m     31\u001b[39m candidates.remove(vertex)\n\u001b[32m     32\u001b[39m processed_vertices.add(vertex)\n",
      "\u001b[36mFile \u001b[39m\u001b[32mc:\\Users\\josea\\Documents\\courses\\Random\\ramsey\\ramsey\\clique_algorithms.py:14\u001b[39m, in \u001b[36mbron_kerbosch.<locals>._recursive\u001b[39m\u001b[34m(current_clique, candidates, processed_vertices, graph_dict)\u001b[39m\n\u001b[32m      7\u001b[39m \u001b[38;5;250m\u001b[39m\u001b[33;03m\"\"\"The Bron-Kerbosh Algorithm with pivot to find all maximal cliques.\u001b[39;00m\n\u001b[32m      8\u001b[39m \u001b[33;03m\u001b[39;00m\n\u001b[32m      9\u001b[39m \u001b[33;03mReturns the list of all maximal cliques.\u001b[39;00m\n\u001b[32m     10\u001b[39m \u001b[33;03mhttps://rosettacode.org/wiki/Bron%E2%80%93Kerbosch_algorithm\u001b[39;00m\n\u001b[32m     11\u001b[39m \u001b[33;03m\"\"\"\u001b[39;00m\n\u001b[32m     12\u001b[39m cliques = []\n\u001b[32m---> \u001b[39m\u001b[32m14\u001b[39m \u001b[38;5;28;01mdef\u001b[39;00m\u001b[38;5;250m \u001b[39m\u001b[34m_recursive\u001b[39m(current_clique, candidates, processed_vertices, graph_dict):\n\u001b[32m     15\u001b[39m     \u001b[38;5;28;01mif\u001b[39;00m \u001b[38;5;129;01mnot\u001b[39;00m candidates \u001b[38;5;129;01mand\u001b[39;00m \u001b[38;5;129;01mnot\u001b[39;00m processed_vertices:\n\u001b[32m     16\u001b[39m         \u001b[38;5;28;01mif\u001b[39;00m \u001b[38;5;28mlen\u001b[39m(current_clique) > \u001b[32m2\u001b[39m:\n",
      "\u001b[31mKeyboardInterrupt\u001b[39m: "
     ]
    }
   ],
   "source": [
    "for i in range(2, 56, 2):\n",
    "    compute_cliques_d_regular(108, i)"
   ]
  },
  {
   "cell_type": "code",
   "execution_count": null,
   "id": "74e70e16",
   "metadata": {},
   "outputs": [],
   "source": []
  }
 ],
 "metadata": {
  "kernelspec": {
   "display_name": ".venv",
   "language": "python",
   "name": "python3"
  },
  "language_info": {
   "codemirror_mode": {
    "name": "ipython",
    "version": 3
   },
   "file_extension": ".py",
   "mimetype": "text/x-python",
   "name": "python",
   "nbconvert_exporter": "python",
   "pygments_lexer": "ipython3",
   "version": "3.11.9"
  }
 },
 "nbformat": 4,
 "nbformat_minor": 5
}
